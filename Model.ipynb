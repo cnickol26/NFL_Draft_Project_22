{
 "cells": [
  {
   "cell_type": "markdown",
   "id": "fe31defe-ee67-411e-b78c-156ccbc8a618",
   "metadata": {},
   "source": [
    "## Comparing the MSE of Bayes vs Frequentist regression"
   ]
  },
  {
   "cell_type": "code",
   "execution_count": 13,
   "id": "7e417d8f-38d7-4b07-989f-5b3d7e874215",
   "metadata": {},
   "outputs": [],
   "source": [
    "import pandas as pd\n",
    "import numpy as np\n",
    "import pymc as pm"
   ]
  },
  {
   "cell_type": "code",
   "execution_count": 2,
   "id": "7430221e-2f40-41d5-a045-10abcff3f577",
   "metadata": {},
   "outputs": [],
   "source": [
    "##Using the data as is, no feature transformations\n",
    "data = pd.read_csv('wr_model_data.csv')"
   ]
  },
  {
   "cell_type": "code",
   "execution_count": 4,
   "id": "f83958d7-4f84-499c-ac16-2d1a578925a1",
   "metadata": {},
   "outputs": [],
   "source": [
    "data = data.dropna()"
   ]
  },
  {
   "cell_type": "code",
   "execution_count": 7,
   "id": "5fff20f7-75bd-486b-b54a-cb515bc76f9b",
   "metadata": {},
   "outputs": [
    {
     "name": "stderr",
     "output_type": "stream",
     "text": [
      "/var/folders/d9/lqnstgr57q38yp_l9kjdv69c0000gn/T/ipykernel_16003/3106411970.py:1: SettingWithCopyWarning: \n",
      "A value is trying to be set on a copy of a slice from a DataFrame.\n",
      "Try using .loc[row_indexer,col_indexer] = value instead\n",
      "\n",
      "See the caveats in the documentation: https://pandas.pydata.org/pandas-docs/stable/user_guide/indexing.html#returning-a-view-versus-a-copy\n",
      "  data['P_five'] = data['P_five'].astype(object)\n"
     ]
    },
    {
     "data": {
      "text/html": [
       "<div>\n",
       "<style scoped>\n",
       "    .dataframe tbody tr th:only-of-type {\n",
       "        vertical-align: middle;\n",
       "    }\n",
       "\n",
       "    .dataframe tbody tr th {\n",
       "        vertical-align: top;\n",
       "    }\n",
       "\n",
       "    .dataframe thead th {\n",
       "        text-align: right;\n",
       "    }\n",
       "</style>\n",
       "<table border=\"1\" class=\"dataframe\">\n",
       "  <thead>\n",
       "    <tr style=\"text-align: right;\">\n",
       "      <th></th>\n",
       "      <th>Year</th>\n",
       "      <th>Round</th>\n",
       "      <th>Pick</th>\n",
       "      <th>Overall</th>\n",
       "      <th>Name</th>\n",
       "      <th>Team</th>\n",
       "      <th>Position</th>\n",
       "      <th>School</th>\n",
       "      <th>Rec.Yards</th>\n",
       "      <th>Rec.TD</th>\n",
       "      <th>Rec</th>\n",
       "      <th>CONF</th>\n",
       "      <th>P_five</th>\n",
       "      <th>Pos</th>\n",
       "      <th>RAS</th>\n",
       "      <th>AllTime</th>\n",
       "    </tr>\n",
       "  </thead>\n",
       "  <tbody>\n",
       "    <tr>\n",
       "      <th>1</th>\n",
       "      <td>2010</td>\n",
       "      <td>1</td>\n",
       "      <td>24</td>\n",
       "      <td>24</td>\n",
       "      <td>Dez Bryant</td>\n",
       "      <td>COWBOYS</td>\n",
       "      <td>WR</td>\n",
       "      <td>Oklahoma State</td>\n",
       "      <td>1480.0</td>\n",
       "      <td>19.0</td>\n",
       "      <td>87.0</td>\n",
       "      <td>B12</td>\n",
       "      <td>1</td>\n",
       "      <td>WR</td>\n",
       "      <td>9.05</td>\n",
       "      <td>9.17</td>\n",
       "    </tr>\n",
       "    <tr>\n",
       "      <th>2</th>\n",
       "      <td>2010</td>\n",
       "      <td>2</td>\n",
       "      <td>7</td>\n",
       "      <td>39</td>\n",
       "      <td>Arrelious Benn</td>\n",
       "      <td>BUCCANEERS</td>\n",
       "      <td>WR</td>\n",
       "      <td>Illinois</td>\n",
       "      <td>1055.0</td>\n",
       "      <td>3.0</td>\n",
       "      <td>67.0</td>\n",
       "      <td>B10</td>\n",
       "      <td>1</td>\n",
       "      <td>WR</td>\n",
       "      <td>8.23</td>\n",
       "      <td>8.21</td>\n",
       "    </tr>\n",
       "    <tr>\n",
       "      <th>3</th>\n",
       "      <td>2010</td>\n",
       "      <td>2</td>\n",
       "      <td>28</td>\n",
       "      <td>60</td>\n",
       "      <td>Golden Tate</td>\n",
       "      <td>SEAHAWKS</td>\n",
       "      <td>WR</td>\n",
       "      <td>Notre Dame</td>\n",
       "      <td>1496.0</td>\n",
       "      <td>15.0</td>\n",
       "      <td>93.0</td>\n",
       "      <td>ACC</td>\n",
       "      <td>1</td>\n",
       "      <td>WR</td>\n",
       "      <td>7.49</td>\n",
       "      <td>7.43</td>\n",
       "    </tr>\n",
       "    <tr>\n",
       "      <th>5</th>\n",
       "      <td>2010</td>\n",
       "      <td>3</td>\n",
       "      <td>14</td>\n",
       "      <td>78</td>\n",
       "      <td>Brandon LaFell</td>\n",
       "      <td>PANTHERS</td>\n",
       "      <td>WR</td>\n",
       "      <td>Louisiana State</td>\n",
       "      <td>929.0</td>\n",
       "      <td>8.0</td>\n",
       "      <td>63.0</td>\n",
       "      <td>SEC</td>\n",
       "      <td>1</td>\n",
       "      <td>WR</td>\n",
       "      <td>4.88</td>\n",
       "      <td>4.94</td>\n",
       "    </tr>\n",
       "    <tr>\n",
       "      <th>6</th>\n",
       "      <td>2010</td>\n",
       "      <td>3</td>\n",
       "      <td>18</td>\n",
       "      <td>82</td>\n",
       "      <td>Emmanuel Sanders</td>\n",
       "      <td>STEELERS</td>\n",
       "      <td>WR</td>\n",
       "      <td>Southern Methodist</td>\n",
       "      <td>1339.0</td>\n",
       "      <td>7.0</td>\n",
       "      <td>98.0</td>\n",
       "      <td>CUSA</td>\n",
       "      <td>0</td>\n",
       "      <td>WR</td>\n",
       "      <td>9.38</td>\n",
       "      <td>9.41</td>\n",
       "    </tr>\n",
       "    <tr>\n",
       "      <th>...</th>\n",
       "      <td>...</td>\n",
       "      <td>...</td>\n",
       "      <td>...</td>\n",
       "      <td>...</td>\n",
       "      <td>...</td>\n",
       "      <td>...</td>\n",
       "      <td>...</td>\n",
       "      <td>...</td>\n",
       "      <td>...</td>\n",
       "      <td>...</td>\n",
       "      <td>...</td>\n",
       "      <td>...</td>\n",
       "      <td>...</td>\n",
       "      <td>...</td>\n",
       "      <td>...</td>\n",
       "      <td>...</td>\n",
       "    </tr>\n",
       "    <tr>\n",
       "      <th>273</th>\n",
       "      <td>2022</td>\n",
       "      <td>3</td>\n",
       "      <td>24</td>\n",
       "      <td>88</td>\n",
       "      <td>Jalen Tolbert</td>\n",
       "      <td>COWBOYS</td>\n",
       "      <td>WR</td>\n",
       "      <td>South Alabama</td>\n",
       "      <td>1474.0</td>\n",
       "      <td>8.0</td>\n",
       "      <td>82.0</td>\n",
       "      <td>SB</td>\n",
       "      <td>0</td>\n",
       "      <td>WR</td>\n",
       "      <td>8.62</td>\n",
       "      <td>8.62</td>\n",
       "    </tr>\n",
       "    <tr>\n",
       "      <th>274</th>\n",
       "      <td>2022</td>\n",
       "      <td>3</td>\n",
       "      <td>35</td>\n",
       "      <td>99</td>\n",
       "      <td>David Bell</td>\n",
       "      <td>BROWNS</td>\n",
       "      <td>WR</td>\n",
       "      <td>Purdue</td>\n",
       "      <td>1286.0</td>\n",
       "      <td>6.0</td>\n",
       "      <td>93.0</td>\n",
       "      <td>B10</td>\n",
       "      <td>1</td>\n",
       "      <td>WR</td>\n",
       "      <td>3.99</td>\n",
       "      <td>3.99</td>\n",
       "    </tr>\n",
       "    <tr>\n",
       "      <th>276</th>\n",
       "      <td>2022</td>\n",
       "      <td>4</td>\n",
       "      <td>20</td>\n",
       "      <td>125</td>\n",
       "      <td>Erik Ezukanma</td>\n",
       "      <td>DOLPHINS</td>\n",
       "      <td>WR</td>\n",
       "      <td>Texas Tech</td>\n",
       "      <td>748.0</td>\n",
       "      <td>6.0</td>\n",
       "      <td>46.0</td>\n",
       "      <td>B12</td>\n",
       "      <td>1</td>\n",
       "      <td>WR</td>\n",
       "      <td>7.03</td>\n",
       "      <td>7.03</td>\n",
       "    </tr>\n",
       "    <tr>\n",
       "      <th>279</th>\n",
       "      <td>2022</td>\n",
       "      <td>4</td>\n",
       "      <td>43</td>\n",
       "      <td>148</td>\n",
       "      <td>Khalil Shakir</td>\n",
       "      <td>BILLS</td>\n",
       "      <td>WR</td>\n",
       "      <td>Boise State</td>\n",
       "      <td>1117.0</td>\n",
       "      <td>7.0</td>\n",
       "      <td>77.0</td>\n",
       "      <td>NP5</td>\n",
       "      <td>0</td>\n",
       "      <td>WR</td>\n",
       "      <td>8.31</td>\n",
       "      <td>8.31</td>\n",
       "    </tr>\n",
       "    <tr>\n",
       "      <th>280</th>\n",
       "      <td>2022</td>\n",
       "      <td>5</td>\n",
       "      <td>19</td>\n",
       "      <td>162</td>\n",
       "      <td>Montrell Washington</td>\n",
       "      <td>BRONCOS</td>\n",
       "      <td>WR</td>\n",
       "      <td>Samford</td>\n",
       "      <td>813.0</td>\n",
       "      <td>9.0</td>\n",
       "      <td>60.0</td>\n",
       "      <td>SC</td>\n",
       "      <td>0</td>\n",
       "      <td>WR</td>\n",
       "      <td>4.32</td>\n",
       "      <td>4.32</td>\n",
       "    </tr>\n",
       "  </tbody>\n",
       "</table>\n",
       "<p>216 rows × 16 columns</p>\n",
       "</div>"
      ],
      "text/plain": [
       "     Year  Round  Pick  Overall                 Name        Team Position  \\\n",
       "1    2010      1    24       24           Dez Bryant     COWBOYS       WR   \n",
       "2    2010      2     7       39       Arrelious Benn  BUCCANEERS       WR   \n",
       "3    2010      2    28       60          Golden Tate    SEAHAWKS       WR   \n",
       "5    2010      3    14       78       Brandon LaFell    PANTHERS       WR   \n",
       "6    2010      3    18       82     Emmanuel Sanders    STEELERS       WR   \n",
       "..    ...    ...   ...      ...                  ...         ...      ...   \n",
       "273  2022      3    24       88        Jalen Tolbert     COWBOYS       WR   \n",
       "274  2022      3    35       99           David Bell      BROWNS       WR   \n",
       "276  2022      4    20      125        Erik Ezukanma    DOLPHINS       WR   \n",
       "279  2022      4    43      148        Khalil Shakir       BILLS       WR   \n",
       "280  2022      5    19      162  Montrell Washington     BRONCOS       WR   \n",
       "\n",
       "                 School  Rec.Yards  Rec.TD   Rec  CONF P_five Pos   RAS  \\\n",
       "1        Oklahoma State     1480.0    19.0  87.0   B12      1  WR  9.05   \n",
       "2              Illinois     1055.0     3.0  67.0   B10      1  WR  8.23   \n",
       "3            Notre Dame     1496.0    15.0  93.0   ACC      1  WR  7.49   \n",
       "5       Louisiana State      929.0     8.0  63.0   SEC      1  WR  4.88   \n",
       "6    Southern Methodist     1339.0     7.0  98.0  CUSA      0  WR  9.38   \n",
       "..                  ...        ...     ...   ...   ...    ...  ..   ...   \n",
       "273       South Alabama     1474.0     8.0  82.0    SB      0  WR  8.62   \n",
       "274              Purdue     1286.0     6.0  93.0   B10      1  WR  3.99   \n",
       "276          Texas Tech      748.0     6.0  46.0   B12      1  WR  7.03   \n",
       "279         Boise State     1117.0     7.0  77.0   NP5      0  WR  8.31   \n",
       "280             Samford      813.0     9.0  60.0    SC      0  WR  4.32   \n",
       "\n",
       "     AllTime  \n",
       "1       9.17  \n",
       "2       8.21  \n",
       "3       7.43  \n",
       "5       4.94  \n",
       "6       9.41  \n",
       "..       ...  \n",
       "273     8.62  \n",
       "274     3.99  \n",
       "276     7.03  \n",
       "279     8.31  \n",
       "280     4.32  \n",
       "\n",
       "[216 rows x 16 columns]"
      ]
     },
     "execution_count": 7,
     "metadata": {},
     "output_type": "execute_result"
    }
   ],
   "source": [
    "data['P_five'] = data['P_five'].astype(object)\n",
    "data"
   ]
  },
  {
   "cell_type": "code",
   "execution_count": 16,
   "id": "35ebc51a-dd25-4854-abbe-a68f6e185f40",
   "metadata": {},
   "outputs": [],
   "source": [
    "data_train = data[data['Year'] < 2020]\n",
    "data_test = data[data['Year'] >=2020]"
   ]
  },
  {
   "cell_type": "code",
   "execution_count": 18,
   "id": "2787aa0c-ebb1-4ced-8f07-e4f75cf5edc5",
   "metadata": {},
   "outputs": [
    {
     "name": "stderr",
     "output_type": "stream",
     "text": [
      "Auto-assigning NUTS sampler...\n",
      "Initializing NUTS using jitter+adapt_diag...\n",
      "Multiprocess sampling (4 chains in 4 jobs)\n",
      "NUTS: [beta0, beta1, beta2, beta3, beta4, beta5, nu, sigma]\n"
     ]
    },
    {
     "data": {
      "text/html": [
       "\n",
       "<style>\n",
       "    /* Turns off some styling */\n",
       "    progress {\n",
       "        /* gets rid of default border in Firefox and Opera. */\n",
       "        border: none;\n",
       "        /* Needs to be in here for Safari polyfill so background images work as expected. */\n",
       "        background-size: auto;\n",
       "    }\n",
       "    progress:not([value]), progress:not([value])::-webkit-progress-bar {\n",
       "        background: repeating-linear-gradient(45deg, #7e7e7e, #7e7e7e 10px, #5c5c5c 10px, #5c5c5c 20px);\n",
       "    }\n",
       "    .progress-bar-interrupted, .progress-bar-interrupted::-webkit-progress-bar {\n",
       "        background: #F44336;\n",
       "    }\n",
       "</style>\n"
      ],
      "text/plain": [
       "<IPython.core.display.HTML object>"
      ]
     },
     "metadata": {},
     "output_type": "display_data"
    },
    {
     "data": {
      "text/html": [
       "\n",
       "    <div>\n",
       "      <progress value='44000' class='' max='44000' style='width:300px; height:20px; vertical-align: middle;'></progress>\n",
       "      100.00% [44000/44000 11:22&lt;00:00 Sampling 4 chains, 0 divergences]\n",
       "    </div>\n",
       "    "
      ],
      "text/plain": [
       "<IPython.core.display.HTML object>"
      ]
     },
     "metadata": {},
     "output_type": "display_data"
    },
    {
     "name": "stderr",
     "output_type": "stream",
     "text": [
      "/Users/connornickol/opt/anaconda3/lib/python3.9/site-packages/scipy/stats/_continuous_distns.py:624: RuntimeWarning: overflow encountered in _beta_ppf\n",
      "  return _boost._beta_ppf(q, a, b)\n",
      "/Users/connornickol/opt/anaconda3/lib/python3.9/site-packages/scipy/stats/_continuous_distns.py:624: RuntimeWarning: overflow encountered in _beta_ppf\n",
      "  return _boost._beta_ppf(q, a, b)\n",
      "/Users/connornickol/opt/anaconda3/lib/python3.9/site-packages/scipy/stats/_continuous_distns.py:624: RuntimeWarning: overflow encountered in _beta_ppf\n",
      "  return _boost._beta_ppf(q, a, b)\n",
      "/Users/connornickol/opt/anaconda3/lib/python3.9/site-packages/scipy/stats/_continuous_distns.py:624: RuntimeWarning: overflow encountered in _beta_ppf\n",
      "  return _boost._beta_ppf(q, a, b)\n",
      "Sampling 4 chains for 1_000 tune and 10_000 draw iterations (4_000 + 40_000 draws total) took 717 seconds.\n"
     ]
    }
   ],
   "source": [
    "with pm.Model() as wr_model:\n",
    "    Y = pm.MutableData(name = 'Y', value = data_train['Overall'])\n",
    "    X1 = pm.MutableData(name = 'X1', value = data_train['Rec.Yards'])\n",
    "    X2 = pm.MutableData(name = 'X2', value = data_train['Rec.TD'])\n",
    "    X3 = pm.MutableData(name = 'X3', value = data_train['Rec'])\n",
    "    X4 = pm.MutableData(name = 'X4', value = data_train['P_five'])\n",
    "    X5 = pm.MutableData(name = 'X5', value = data_train['RAS'])\n",
    "    \n",
    "    beta0 = pm.Normal('beta0', mu=0, sigma=2) \n",
    "    beta1 = pm.Normal('beta1', mu=0, sigma=2) \n",
    "    beta2 = pm.Normal('beta2', mu=0, sigma=2)\n",
    "    beta3 = pm.Normal('beta3', mu=0, sigma=2)\n",
    "    beta4 = pm.Normal('beta4', mu=0, sigma=2)\n",
    "    beta5 = pm.Normal('beta5', mu=0, sigma=2)\n",
    "    mu = beta0 + beta1*X1 + beta2*X2 + beta3*X3 + beta4*X4 + beta5*X5\n",
    "    \n",
    "    nu = pm.Exponential('nu', 1/29.)\n",
    "    sigma = pm.Uniform('sigma', 10**-5, 10)\n",
    "    \n",
    "    likelihood = pm.StudentT('likelihood', nu=nu, mu=mu, lam=1/sigma**2, observed = Y)\n",
    "    trace = pm.sample(10000, cores = 4,target_accept=0.95)"
   ]
  },
  {
   "cell_type": "code",
   "execution_count": 20,
   "id": "71d10703-9656-4bbe-aebb-5dc95e7e8f5e",
   "metadata": {},
   "outputs": [
    {
     "name": "stderr",
     "output_type": "stream",
     "text": [
      "Sampling: [beta0, beta1, beta2, beta3, beta4, beta5, likelihood, nu, sigma]\n",
      "Sampling: [likelihood]\n"
     ]
    },
    {
     "data": {
      "text/html": [
       "\n",
       "<style>\n",
       "    /* Turns off some styling */\n",
       "    progress {\n",
       "        /* gets rid of default border in Firefox and Opera. */\n",
       "        border: none;\n",
       "        /* Needs to be in here for Safari polyfill so background images work as expected. */\n",
       "        background-size: auto;\n",
       "    }\n",
       "    progress:not([value]), progress:not([value])::-webkit-progress-bar {\n",
       "        background: repeating-linear-gradient(45deg, #7e7e7e, #7e7e7e 10px, #5c5c5c 10px, #5c5c5c 20px);\n",
       "    }\n",
       "    .progress-bar-interrupted, .progress-bar-interrupted::-webkit-progress-bar {\n",
       "        background: #F44336;\n",
       "    }\n",
       "</style>\n"
      ],
      "text/plain": [
       "<IPython.core.display.HTML object>"
      ]
     },
     "metadata": {},
     "output_type": "display_data"
    },
    {
     "data": {
      "text/html": [
       "\n",
       "    <div>\n",
       "      <progress value='40000' class='' max='40000' style='width:300px; height:20px; vertical-align: middle;'></progress>\n",
       "      100.00% [40000/40000 00:10&lt;00:00]\n",
       "    </div>\n",
       "    "
      ],
      "text/plain": [
       "<IPython.core.display.HTML object>"
      ]
     },
     "metadata": {},
     "output_type": "display_data"
    }
   ],
   "source": [
    "with wr_model:\n",
    "    trace.extend(pm.sample_prior_predictive())\n",
    "    trace.extend(pm.sample_posterior_predictive(trace))"
   ]
  },
  {
   "cell_type": "code",
   "execution_count": 21,
   "id": "8e4b8332-adee-4182-9070-1a4b007c4a1a",
   "metadata": {},
   "outputs": [
    {
     "name": "stderr",
     "output_type": "stream",
     "text": [
      "Sampling: [likelihood]\n"
     ]
    },
    {
     "data": {
      "text/html": [
       "\n",
       "<style>\n",
       "    /* Turns off some styling */\n",
       "    progress {\n",
       "        /* gets rid of default border in Firefox and Opera. */\n",
       "        border: none;\n",
       "        /* Needs to be in here for Safari polyfill so background images work as expected. */\n",
       "        background-size: auto;\n",
       "    }\n",
       "    progress:not([value]), progress:not([value])::-webkit-progress-bar {\n",
       "        background: repeating-linear-gradient(45deg, #7e7e7e, #7e7e7e 10px, #5c5c5c 10px, #5c5c5c 20px);\n",
       "    }\n",
       "    .progress-bar-interrupted, .progress-bar-interrupted::-webkit-progress-bar {\n",
       "        background: #F44336;\n",
       "    }\n",
       "</style>\n"
      ],
      "text/plain": [
       "<IPython.core.display.HTML object>"
      ]
     },
     "metadata": {},
     "output_type": "display_data"
    },
    {
     "data": {
      "text/html": [
       "\n",
       "    <div>\n",
       "      <progress value='40000' class='' max='40000' style='width:300px; height:20px; vertical-align: middle;'></progress>\n",
       "      100.00% [40000/40000 00:08&lt;00:00]\n",
       "    </div>\n",
       "    "
      ],
      "text/plain": [
       "<IPython.core.display.HTML object>"
      ]
     },
     "metadata": {},
     "output_type": "display_data"
    }
   ],
   "source": [
    "pm.set_data(new_data={'X1':data_test['Rec.Yards'],'X2':data_test['Rec.TD'],'X3':data_test['Rec'],'X4':data_test['P_five'],'X5':data_test['RAS'], 'Y':data_test['Overall']}, model=wr_model)\n",
    "ppc_power = pm.sample_posterior_predictive(trace, model=wr_model, var_names=['likelihood'])"
   ]
  },
  {
   "cell_type": "code",
   "execution_count": 22,
   "id": "548955dd-adf3-48ad-8c4f-984326a341b0",
   "metadata": {},
   "outputs": [],
   "source": [
    "predict_p = pd.DataFrame({\n",
    "    'predict':ppc_power['posterior_predictive']['likelihood'].mean(axis=1)[0].to_numpy()})"
   ]
  },
  {
   "cell_type": "code",
   "execution_count": 23,
   "id": "42eeb335-9af8-47cd-805b-eb7930f5846d",
   "metadata": {},
   "outputs": [],
   "source": [
    "data_test = data_test.reset_index()\n",
    "data_test['predict'] = predict_p"
   ]
  },
  {
   "cell_type": "code",
   "execution_count": 24,
   "id": "82f55622-d4ac-442c-a878-e606a172b81e",
   "metadata": {},
   "outputs": [
    {
     "data": {
      "text/plain": [
       "8420873241546.693"
      ]
     },
     "execution_count": 24,
     "metadata": {},
     "output_type": "execute_result"
    }
   ],
   "source": [
    "## MSE\n",
    "((data_test['Overall'] - data_test['predict'])**2).mean()"
   ]
  },
  {
   "cell_type": "code",
   "execution_count": 27,
   "id": "0799d051-2305-4f63-9225-b46c5ff2df2f",
   "metadata": {},
   "outputs": [
    {
     "data": {
      "text/plain": [
       "0         1912.0\n",
       "1       -20922.0\n",
       "2        76968.0\n",
       "3      -401995.0\n",
       "4        -4536.0\n",
       "5      1001619.0\n",
       "6     19255653.0\n",
       "7        28920.0\n",
       "8        34793.0\n",
       "9        -9963.0\n",
       "10         954.0\n",
       "11     1297063.0\n",
       "12        -962.0\n",
       "13         734.0\n",
       "14       29043.0\n",
       "15      -17959.0\n",
       "16      -90681.0\n",
       "17       -1788.0\n",
       "18       -7139.0\n",
       "19        -153.0\n",
       "20        5507.0\n",
       "21     -178210.0\n",
       "22       -9272.0\n",
       "23      -35606.0\n",
       "24      616475.0\n",
       "25     2137858.0\n",
       "26       -4985.0\n",
       "27      -33320.0\n",
       "28      -74783.0\n",
       "29       -1336.0\n",
       "30       14567.0\n",
       "31      -41296.0\n",
       "32      -67122.0\n",
       "33      396726.0\n",
       "34       28340.0\n",
       "35       71872.0\n",
       "36       -1060.0\n",
       "37        5592.0\n",
       "38        3906.0\n",
       "39       20538.0\n",
       "40       -2132.0\n",
       "41       -1231.0\n",
       "42      -10692.0\n",
       "43       27957.0\n",
       "44      367850.0\n",
       "Name: predict, dtype: float64"
      ]
     },
     "execution_count": 27,
     "metadata": {},
     "output_type": "execute_result"
    }
   ],
   "source": [
    "data_test['predict'].round()"
   ]
  }
 ],
 "metadata": {
  "kernelspec": {
   "display_name": "Python 3 (ipykernel)",
   "language": "python",
   "name": "python3"
  },
  "language_info": {
   "codemirror_mode": {
    "name": "ipython",
    "version": 3
   },
   "file_extension": ".py",
   "mimetype": "text/x-python",
   "name": "python",
   "nbconvert_exporter": "python",
   "pygments_lexer": "ipython3",
   "version": "3.9.12"
  }
 },
 "nbformat": 4,
 "nbformat_minor": 5
}

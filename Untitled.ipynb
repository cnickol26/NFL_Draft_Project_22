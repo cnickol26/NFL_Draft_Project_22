{
 "cells": [
  {
   "cell_type": "markdown",
   "id": "fe31defe-ee67-411e-b78c-156ccbc8a618",
   "metadata": {},
   "source": [
    "## Comparing the MSE of Bayes vs Frequentist regression"
   ]
  },
  {
   "cell_type": "code",
   "execution_count": null,
   "id": "7430221e-2f40-41d5-a045-10abcff3f577",
   "metadata": {},
   "outputs": [],
   "source": [
    "##Using the data as is, no feature transformations\n"
   ]
  }
 ],
 "metadata": {
  "kernelspec": {
   "display_name": "Python 3 (ipykernel)",
   "language": "python",
   "name": "python3"
  },
  "language_info": {
   "codemirror_mode": {
    "name": "ipython",
    "version": 3
   },
   "file_extension": ".py",
   "mimetype": "text/x-python",
   "name": "python",
   "nbconvert_exporter": "python",
   "pygments_lexer": "ipython3",
   "version": "3.9.12"
  }
 },
 "nbformat": 4,
 "nbformat_minor": 5
}
